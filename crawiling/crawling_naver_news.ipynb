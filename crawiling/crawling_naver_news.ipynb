{
 "cells": [
  {
   "cell_type": "code",
   "execution_count": 80,
   "metadata": {},
   "outputs": [],
   "source": [
    "import pandas as pd\n",
    "import numpy as np\n",
    "import matplotlib as mlp\n",
    "import matplotlib.pyplot as plt\n",
    "mlp.rcParams['font.family'] = 'Gothic malgun'\n",
    "\n",
    "import warnings\n",
    "warnings.filterwarnings(action='ignore')"
   ]
  },
  {
   "cell_type": "code",
   "execution_count": 1,
   "metadata": {},
   "outputs": [],
   "source": [
    "import os\n",
    "import sys\n",
    "import urllib.request\n",
    "import requests\n",
    "from bs4 import BeautifulSoup as bs\n",
    "from tqdm import tqdm\n",
    "import re\n",
    "import pandas as pd\n",
    "\n",
    "from selenium import webdriver\n",
    "import pickle\n",
    "import re\n",
    "import ast\n",
    "from dateutil.relativedelta import relativedelta\n",
    "\n",
    "from urllib.request import urlopen\n",
    "import time\n",
    "import urllib\n",
    "from tqdm import tqdm\n",
    "import warnings\n",
    "warnings.filterwarnings(action='ignore')"
   ]
  },
  {
   "cell_type": "code",
   "execution_count": 112,
   "metadata": {},
   "outputs": [],
   "source": [
    "df = pd.read_csv('company_name.csv')\n",
    "df['등급확정일'] = pd.to_datetime(df['등급확정일'])"
   ]
  },
  {
   "cell_type": "code",
   "execution_count": 113,
   "metadata": {},
   "outputs": [
    {
     "name": "stderr",
     "output_type": "stream",
     "text": [
      "234it [13:33,  3.48s/it]\n"
     ]
    }
   ],
   "source": [
    "all_title = []\n",
    "page_counts = 10\n",
    "for company_name, date in tqdm(zip(df['기업명'],df['등급확정일'])):\n",
    "    start = str(date-relativedelta(month=6)).replace('-','.').replace('00','').replace(':','').strip()\n",
    "    end = str(date).replace('-','.').replace('00','').replace(':','').strip()\n",
    "    start_date = start.replace('.','')\n",
    "    end_date = end.replace('.','')\n",
    "    extend_title = ''\n",
    "    company_title = []\n",
    "    for idx in range(page_counts):\n",
    "        url = f'https://search.naver.com/search.naver?where=news&sm=tab_pge&query={company_name}&sort=0&photo=0&field=0&pd=3&ds={start}1&de={end}&cluster_rank=37&mynews=0&office_type=0&office_section_code=0&news_office_checked=&nso=so:r,p:from{start_date}to{end_date},a:all&start='+str(idx * 10 + 1)\n",
    "        r = requests.get(url)\n",
    "        html = r.content\n",
    "        soup = bs(html,'html.parser')\n",
    "        news = soup.select(\"div.group_news > ul.list_news > li div.news_area > a\")\n",
    "        for content in news:\n",
    "            company_title.append(content.attrs['title'])\n",
    "        for title in company_title:\n",
    "            extend_title+=''.join(title)\n",
    "    all_title.append([company_name,extend_title])"
   ]
  },
  {
   "cell_type": "code",
   "execution_count": 124,
   "metadata": {},
   "outputs": [
    {
     "data": {
      "text/html": [
       "<div>\n",
       "<style scoped>\n",
       "    .dataframe tbody tr th:only-of-type {\n",
       "        vertical-align: middle;\n",
       "    }\n",
       "\n",
       "    .dataframe tbody tr th {\n",
       "        vertical-align: top;\n",
       "    }\n",
       "\n",
       "    .dataframe thead th {\n",
       "        text-align: right;\n",
       "    }\n",
       "</style>\n",
       "<table border=\"1\" class=\"dataframe\">\n",
       "  <thead>\n",
       "    <tr style=\"text-align: right;\">\n",
       "      <th></th>\n",
       "      <th>company</th>\n",
       "      <th>title</th>\n",
       "    </tr>\n",
       "  </thead>\n",
       "  <tbody>\n",
       "    <tr>\n",
       "      <th>0</th>\n",
       "      <td>현대두산인프라코어</td>\n",
       "      <td>[브랜드평판] 기계 상장기업 순위, 1위 두산중공업 2위 휴림로봇 3위 광림美 건설...</td>\n",
       "    </tr>\n",
       "    <tr>\n",
       "      <th>1</th>\n",
       "      <td>BNK투자증권</td>\n",
       "      <td>BNK투자증권 “메리츠화재, 실손보험 제도 개선 시 수혜 기대…목표가 4만5000원...</td>\n",
       "    </tr>\n",
       "    <tr>\n",
       "      <th>2</th>\n",
       "      <td>하이투자증권</td>\n",
       "      <td>하이투자증권, ELS 2종 공모\"해성디에스, 실적 개선폭 확대\" - 하이투자증권명신...</td>\n",
       "    </tr>\n",
       "    <tr>\n",
       "      <th>3</th>\n",
       "      <td>두산에너빌리티</td>\n",
       "      <td>두산, 尹 정부 '수소산업 육성' 수혜자될까…수소사업 드라이브[특징주] ‘두산에너빌...</td>\n",
       "    </tr>\n",
       "    <tr>\n",
       "      <th>4</th>\n",
       "      <td>롯데쇼핑</td>\n",
       "      <td>롯데홈쇼핑, 가상 인플루언서 '루시' 활동 확대롯데홈쇼핑, 친환경 자동차 특집 방송...</td>\n",
       "    </tr>\n",
       "    <tr>\n",
       "      <th>...</th>\n",
       "      <td>...</td>\n",
       "      <td>...</td>\n",
       "    </tr>\n",
       "    <tr>\n",
       "      <th>229</th>\n",
       "      <td>한진</td>\n",
       "      <td>조원태 한진그룹 회장 \"대한항공 아시아나 인수 美경제 기여\"한진, 비글구조네트워크에...</td>\n",
       "    </tr>\n",
       "    <tr>\n",
       "      <th>230</th>\n",
       "      <td>한국캐피탈</td>\n",
       "      <td>신용등급 상향세 '한국캐피탈'…신사업 오토금융 '촉각'대화 나누는 권칠승 장관, 지...</td>\n",
       "    </tr>\n",
       "    <tr>\n",
       "      <th>231</th>\n",
       "      <td>현대트랜시스</td>\n",
       "      <td>3년간 4.4조… 현금 확보나선 현대모비스식물성 가죽… 폐배터리 재활용… 현대차, ...</td>\n",
       "    </tr>\n",
       "    <tr>\n",
       "      <th>232</th>\n",
       "      <td>대우건설</td>\n",
       "      <td>대우건설, 가상견본주택에 3D BIM모델 적용…업계 최초게임처럼 모델하우스 본다…대...</td>\n",
       "    </tr>\n",
       "    <tr>\n",
       "      <th>233</th>\n",
       "      <td>플렉스컴</td>\n",
       "      <td>[더벨]플렉스컴, 우회상장 7년만에 퇴출[더벨]플렉스컴, 결국 상장폐지되나[SP] ...</td>\n",
       "    </tr>\n",
       "  </tbody>\n",
       "</table>\n",
       "<p>234 rows × 2 columns</p>\n",
       "</div>"
      ],
      "text/plain": [
       "       company                                              title\n",
       "0    현대두산인프라코어  [브랜드평판] 기계 상장기업 순위, 1위 두산중공업 2위 휴림로봇 3위 광림美 건설...\n",
       "1      BNK투자증권  BNK투자증권 “메리츠화재, 실손보험 제도 개선 시 수혜 기대…목표가 4만5000원...\n",
       "2       하이투자증권  하이투자증권, ELS 2종 공모\"해성디에스, 실적 개선폭 확대\" - 하이투자증권명신...\n",
       "3      두산에너빌리티  두산, 尹 정부 '수소산업 육성' 수혜자될까…수소사업 드라이브[특징주] ‘두산에너빌...\n",
       "4         롯데쇼핑  롯데홈쇼핑, 가상 인플루언서 '루시' 활동 확대롯데홈쇼핑, 친환경 자동차 특집 방송...\n",
       "..         ...                                                ...\n",
       "229         한진  조원태 한진그룹 회장 \"대한항공 아시아나 인수 美경제 기여\"한진, 비글구조네트워크에...\n",
       "230      한국캐피탈  신용등급 상향세 '한국캐피탈'…신사업 오토금융 '촉각'대화 나누는 권칠승 장관, 지...\n",
       "231     현대트랜시스  3년간 4.4조… 현금 확보나선 현대모비스식물성 가죽… 폐배터리 재활용… 현대차, ...\n",
       "232       대우건설  대우건설, 가상견본주택에 3D BIM모델 적용…업계 최초게임처럼 모델하우스 본다…대...\n",
       "233       플렉스컴  [더벨]플렉스컴, 우회상장 7년만에 퇴출[더벨]플렉스컴, 결국 상장폐지되나[SP] ...\n",
       "\n",
       "[234 rows x 2 columns]"
      ]
     },
     "execution_count": 124,
     "metadata": {},
     "output_type": "execute_result"
    }
   ],
   "source": [
    "company_news_title = pd.DataFrame(all_title)\n",
    "company_news_title.columns = ['company','title']\n",
    "company_news_title"
   ]
  },
  {
   "cell_type": "code",
   "execution_count": 128,
   "metadata": {},
   "outputs": [],
   "source": [
    "company_news_title.to_csv('all_news_title.csv',index=False)"
   ]
  },
  {
   "cell_type": "markdown",
   "metadata": {},
   "source": [
    "### Except"
   ]
  },
  {
   "cell_type": "code",
   "execution_count": 125,
   "metadata": {},
   "outputs": [],
   "source": [
    "# naver_urls = []\n",
    "# for url in news_url:\n",
    "#     if 'naver' in url:\n",
    "#         naver_urls.append(url)\n",
    "#     else:\n",
    "#         pass"
   ]
  },
  {
   "cell_type": "code",
   "execution_count": 126,
   "metadata": {},
   "outputs": [],
   "source": [
    "# driver = webdriver.Chrome('crawling/chromedriver.exe')"
   ]
  },
  {
   "cell_type": "code",
   "execution_count": 127,
   "metadata": {},
   "outputs": [],
   "source": [
    "# content = []\n",
    "# for n in tqdm(range(len(naver_urls))):\n",
    "#     news_content = []\n",
    "#     try:\n",
    "#         driver.get(naver_urls[n])\n",
    "#     except:\n",
    "#         print('Time out')\n",
    "#         continue\n",
    "    \n",
    "#     try:\n",
    "#         response = driver.page_source\n",
    "#     except UnexpectedAlertPresentException:\n",
    "#         driver.switch_to_alert().accept()\n",
    "#         print('게시물 삭제됨...')\n",
    "#         continue\n",
    "#     soup = bs(response,'html.parser')\n",
    "    \n",
    "#     doc = None\n",
    "#     text = ''\n",
    "    \n",
    "#     data = soup.find_all('div', {'class': '_article_body_contents','class':'content',\n",
    "#                                 'class':'article_body_content'})\n",
    "#     if data:\n",
    "#         for item in data:\n",
    "#             text += str(item.find_all(text=True)).strip()\n",
    "#             text = ast.literal_eval(text)\n",
    "#             doc = ' '.join(text)\n",
    "#             print(doc)\n",
    "#     else:\n",
    "#         doc = ''\n",
    "    \n",
    "#     news_content.append(doc.replace('\\n',' '))\n",
    "    \n",
    "# content.append(news_content)\n",
    "# time.sleep(2)\n",
    "\n",
    "# print(content[0])\n",
    "        "
   ]
  }
 ],
 "metadata": {
  "kernelspec": {
   "display_name": "Python 3",
   "language": "python",
   "name": "python3"
  },
  "language_info": {
   "codemirror_mode": {
    "name": "ipython",
    "version": 3
   },
   "file_extension": ".py",
   "mimetype": "text/x-python",
   "name": "python",
   "nbconvert_exporter": "python",
   "pygments_lexer": "ipython3",
   "version": "3.8.3"
  }
 },
 "nbformat": 4,
 "nbformat_minor": 4
}
